{
 "cells": [
  {
   "cell_type": "markdown",
   "metadata": {},
   "source": [
    "# Dappled inputs\n",
    "\n",
    "Form inputs in Dappled applets are defined by variables in the first code cell, with the default and expected type extracted from the specified assignment value.\n",
    "\n",
    "Additionally, variable modifiers are used to give inputs additional features. For example, `__format = 'textarea'` turns a string into a multi-line textbox, and `__choices` turns an input into a dropdown.\n",
    "\n",
    "Take a look at the underlying notebook to see how each of the inputs below are defined. More advanced input types are shown in [this applet](/dappledio/inputs-additional)."
   ]
  },
  {
   "cell_type": "code",
   "execution_count": 1,
   "metadata": {},
   "outputs": [],
   "source": [
    "a_string = 'default text'\n",
    "\n",
    "an_integer = 5\n",
    "\n",
    "a_real_number = 1.1\n",
    "\n",
    "a_boolean = False\n",
    "\n",
    "textarea = \"\"\n",
    "textarea__format = 'textarea'\n",
    "textarea__placeholder = 'This textbox allows multiline input'\n",
    "\n",
    "choices_input = \"blue\"\n",
    "choices_input__choices = [\"blue\", \"red\", \"green\"]"
   ]
  },
  {
   "cell_type": "code",
   "execution_count": 2,
   "metadata": {},
   "outputs": [
    {
     "name": "stdout",
     "output_type": "stream",
     "text": [
      "<class 'str'> a_string: default text\n",
      "<class 'int'> an_integer: 5\n",
      "<class 'float'> a_real_number: 1.1\n",
      "<class 'bool'> a_boolean: False\n",
      "<class 'str'> textarea: \n",
      "<class 'str'> choices_input: blue\n"
     ]
    }
   ],
   "source": [
    "def print_variable_names():\n",
    "    variable_names = list(globals().keys())\n",
    "    for varname in variable_names:\n",
    "        if varname[0] != '_' and '__' not in varname and varname != 'In':\n",
    "            val = globals()[varname]\n",
    "            if type(val) not in (str, int, float, bool, list):\n",
    "                continue\n",
    "            print(type(val), varname+':', val, )\n",
    "print_variable_names()"
   ]
  }
 ],
 "metadata": {
  "kernelspec": {
   "display_name": "Python 3",
   "language": "python",
   "name": "python3"
  },
  "language_info": {
   "codemirror_mode": {
    "name": "ipython",
    "version": 3
   },
   "file_extension": ".py",
   "mimetype": "text/x-python",
   "name": "python",
   "nbconvert_exporter": "python",
   "pygments_lexer": "ipython3",
   "version": "3.6.7"
  }
 },
 "nbformat": 4,
 "nbformat_minor": 2
}
